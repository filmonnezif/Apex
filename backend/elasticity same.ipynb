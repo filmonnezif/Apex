{
  "cells": [
    {
      "cell_type": "code",
      "execution_count": 1,
      "metadata": {
        "id": "ZXsHf_BfaVlz"
      },
      "outputs": [
        {
          "name": "stderr",
          "output_type": "stream",
          "text": [
            "c:\\Users\\nahom\\AppData\\Local\\Programs\\Python\\Python313\\Lib\\site-packages\\tqdm\\auto.py:21: TqdmWarning: IProgress not found. Please update jupyter and ipywidgets. See https://ipywidgets.readthedocs.io/en/stable/user_install.html\n",
            "  from .autonotebook import tqdm as notebook_tqdm\n"
          ]
        }
      ],
      "source": [
        "# Cell 1 — install & imports\n",
        "#!pip install -q econml scikit-learn xgboost pandas matplotlib\n",
        "\n",
        "import pandas as pd\n",
        "import numpy as np\n",
        "import matplotlib.pyplot as plt\n",
        "from sklearn.ensemble import RandomForestRegressor\n",
        "from econml.dml import LinearDML\n",
        "import warnings\n",
        "warnings.filterwarnings(\"ignore\")\n",
        "RNG = 123\n"
      ]
    },
    {
      "cell_type": "code",
      "execution_count": null,
      "metadata": {
        "colab": {
          "base_uri": "https://localhost:8080/",
          "height": 419
        },
        "id": "mMzmVPtzcIep",
        "outputId": "fa17bf3b-f388-452f-f89c-3f073dca1d9e"
      },
      "outputs": [
        {
          "name": "stdout",
          "output_type": "stream",
          "text": [
            "(153510, 26)\n"
          ]
        },
        {
          "data": {
            "text/html": [
              "<div>\n",
              "<style scoped>\n",
              "    .dataframe tbody tr th:only-of-type {\n",
              "        vertical-align: middle;\n",
              "    }\n",
              "\n",
              "    .dataframe tbody tr th {\n",
              "        vertical-align: top;\n",
              "    }\n",
              "\n",
              "    .dataframe thead th {\n",
              "        text-align: right;\n",
              "    }\n",
              "</style>\n",
              "<table border=\"1\" class=\"dataframe\">\n",
              "  <thead>\n",
              "    <tr style=\"text-align: right;\">\n",
              "      <th></th>\n",
              "      <th>period_normalized_date</th>\n",
              "      <th>category</th>\n",
              "      <th>brand</th>\n",
              "      <th>product_name</th>\n",
              "      <th>sub_segment</th>\n",
              "      <th>promotion</th>\n",
              "      <th>uom</th>\n",
              "      <th>item_code</th>\n",
              "      <th>sales_units</th>\n",
              "      <th>price_per_sales_unit</th>\n",
              "      <th>...</th>\n",
              "      <th>is_holiday</th>\n",
              "      <th>month</th>\n",
              "      <th>day_of_week</th>\n",
              "      <th>day_of_month</th>\n",
              "      <th>rolling_3day_mean</th>\n",
              "      <th>rolling_7day_mean</th>\n",
              "      <th>rolling_30day_mean</th>\n",
              "      <th>rolling_3day_std</th>\n",
              "      <th>rolling_7day_std</th>\n",
              "      <th>rolling_30day_std</th>\n",
              "    </tr>\n",
              "  </thead>\n",
              "  <tbody>\n",
              "    <tr>\n",
              "      <th>0</th>\n",
              "      <td>2023-01-01</td>\n",
              "      <td>TOTAL COFFEE</td>\n",
              "      <td>NESCAFE</td>\n",
              "      <td>NESCAFE 3IN1 CLASSIC 20GX24 BOX (CM)</td>\n",
              "      <td>INSTANT MIXES</td>\n",
              "      <td>NO PROMO</td>\n",
              "      <td>KGS-LTRS</td>\n",
              "      <td>2.000040e+12</td>\n",
              "      <td>156.862570</td>\n",
              "      <td>6.962713</td>\n",
              "      <td>...</td>\n",
              "      <td>1</td>\n",
              "      <td>1</td>\n",
              "      <td>6</td>\n",
              "      <td>1</td>\n",
              "      <td>NaN</td>\n",
              "      <td>NaN</td>\n",
              "      <td>NaN</td>\n",
              "      <td>NaN</td>\n",
              "      <td>NaN</td>\n",
              "      <td>NaN</td>\n",
              "    </tr>\n",
              "    <tr>\n",
              "      <th>1</th>\n",
              "      <td>2023-01-02</td>\n",
              "      <td>TOTAL COFFEE</td>\n",
              "      <td>NESCAFE</td>\n",
              "      <td>NESCAFE 3IN1 CLASSIC 20GX24 BOX (CM)</td>\n",
              "      <td>INSTANT MIXES</td>\n",
              "      <td>NO PROMO</td>\n",
              "      <td>KGS-LTRS</td>\n",
              "      <td>2.000040e+12</td>\n",
              "      <td>100.990090</td>\n",
              "      <td>6.962713</td>\n",
              "      <td>...</td>\n",
              "      <td>0</td>\n",
              "      <td>1</td>\n",
              "      <td>0</td>\n",
              "      <td>2</td>\n",
              "      <td>156.86257</td>\n",
              "      <td>156.86257</td>\n",
              "      <td>156.86257</td>\n",
              "      <td>NaN</td>\n",
              "      <td>NaN</td>\n",
              "      <td>NaN</td>\n",
              "    </tr>\n",
              "    <tr>\n",
              "      <th>2</th>\n",
              "      <td>2023-01-03</td>\n",
              "      <td>TOTAL COFFEE</td>\n",
              "      <td>NESCAFE</td>\n",
              "      <td>NESCAFE 3IN1 CLASSIC 20GX24 BOX (CM)</td>\n",
              "      <td>INSTANT MIXES</td>\n",
              "      <td>NO PROMO</td>\n",
              "      <td>KGS-LTRS</td>\n",
              "      <td>2.000040e+12</td>\n",
              "      <td>96.937669</td>\n",
              "      <td>6.962713</td>\n",
              "      <td>...</td>\n",
              "      <td>0</td>\n",
              "      <td>1</td>\n",
              "      <td>1</td>\n",
              "      <td>3</td>\n",
              "      <td>128.92633</td>\n",
              "      <td>128.92633</td>\n",
              "      <td>128.92633</td>\n",
              "      <td>39.50781</td>\n",
              "      <td>39.50781</td>\n",
              "      <td>39.50781</td>\n",
              "    </tr>\n",
              "  </tbody>\n",
              "</table>\n",
              "<p>3 rows × 26 columns</p>\n",
              "</div>"
            ],
            "text/plain": [
              "  period_normalized_date      category    brand  \\\n",
              "0             2023-01-01  TOTAL COFFEE  NESCAFE   \n",
              "1             2023-01-02  TOTAL COFFEE  NESCAFE   \n",
              "2             2023-01-03  TOTAL COFFEE  NESCAFE   \n",
              "\n",
              "                           product_name    sub_segment promotion       uom  \\\n",
              "0  NESCAFE 3IN1 CLASSIC 20GX24 BOX (CM)  INSTANT MIXES  NO PROMO  KGS-LTRS   \n",
              "1  NESCAFE 3IN1 CLASSIC 20GX24 BOX (CM)  INSTANT MIXES  NO PROMO  KGS-LTRS   \n",
              "2  NESCAFE 3IN1 CLASSIC 20GX24 BOX (CM)  INSTANT MIXES  NO PROMO  KGS-LTRS   \n",
              "\n",
              "      item_code  sales_units  price_per_sales_unit  ...  is_holiday  month  \\\n",
              "0  2.000040e+12   156.862570              6.962713  ...           1      1   \n",
              "1  2.000040e+12   100.990090              6.962713  ...           0      1   \n",
              "2  2.000040e+12    96.937669              6.962713  ...           0      1   \n",
              "\n",
              "   day_of_week day_of_month rolling_3day_mean  rolling_7day_mean  \\\n",
              "0            6            1               NaN                NaN   \n",
              "1            0            2         156.86257          156.86257   \n",
              "2            1            3         128.92633          128.92633   \n",
              "\n",
              "   rolling_30day_mean  rolling_3day_std  rolling_7day_std  rolling_30day_std  \n",
              "0                 NaN               NaN               NaN                NaN  \n",
              "1           156.86257               NaN               NaN                NaN  \n",
              "2           128.92633          39.50781          39.50781           39.50781  \n",
              "\n",
              "[3 rows x 26 columns]"
            ]
          },
          "execution_count": 2,
          "metadata": {},
          "output_type": "execute_result"
        }
      ],
      "source": [
        "\n",
        "\n",
        "df = pd.read_csv('./last_month_data (2).csv')\n",
        "print(df.shape)\n",
        "df.head(3)\n"
      ]
    },
    {
      "cell_type": "code",
      "execution_count": 3,
      "metadata": {
        "colab": {
          "base_uri": "https://localhost:8080/",
          "height": 365
        },
        "id": "FFNQTI8McQjw",
        "outputId": "5b75495e-a6db-4024-bd5f-68e0ed26b650"
      },
      "outputs": [
        {
          "name": "stdout",
          "output_type": "stream",
          "text": [
            "Columns in dataframe: ['period_normalized_date', 'category', 'brand', 'product_name', 'sub_segment', 'promotion', 'uom', 'item_code', 'sales_units', 'price_per_sales_unit', 'price_per_sales_per_uom', 'sales_value', 'sales_per_uom', 'emirate', 'store_type', 'is_weekend', 'is_holiday', 'month', 'day_of_week', 'day_of_month', 'rolling_3day_mean', 'rolling_7day_mean', 'rolling_30day_mean', 'rolling_3day_std', 'rolling_7day_std', 'rolling_30day_std']\n",
            "\n",
            "Quick peek:\n"
          ]
        },
        {
          "data": {
            "text/html": [
              "<div>\n",
              "<style scoped>\n",
              "    .dataframe tbody tr th:only-of-type {\n",
              "        vertical-align: middle;\n",
              "    }\n",
              "\n",
              "    .dataframe tbody tr th {\n",
              "        vertical-align: top;\n",
              "    }\n",
              "\n",
              "    .dataframe thead th {\n",
              "        text-align: right;\n",
              "    }\n",
              "</style>\n",
              "<table border=\"1\" class=\"dataframe\">\n",
              "  <thead>\n",
              "    <tr style=\"text-align: right;\">\n",
              "      <th></th>\n",
              "      <th>product_name</th>\n",
              "      <th>price_per_sales_unit</th>\n",
              "      <th>sales_units</th>\n",
              "      <th>promotion</th>\n",
              "      <th>month</th>\n",
              "    </tr>\n",
              "  </thead>\n",
              "  <tbody>\n",
              "    <tr>\n",
              "      <th>0</th>\n",
              "      <td>NESCAFE 3IN1 CLASSIC 20GX24 BOX (CM)</td>\n",
              "      <td>6.962713</td>\n",
              "      <td>156.862570</td>\n",
              "      <td>NO PROMO</td>\n",
              "      <td>1</td>\n",
              "    </tr>\n",
              "    <tr>\n",
              "      <th>1</th>\n",
              "      <td>NESCAFE 3IN1 CLASSIC 20GX24 BOX (CM)</td>\n",
              "      <td>6.962713</td>\n",
              "      <td>100.990090</td>\n",
              "      <td>NO PROMO</td>\n",
              "      <td>1</td>\n",
              "    </tr>\n",
              "    <tr>\n",
              "      <th>2</th>\n",
              "      <td>NESCAFE 3IN1 CLASSIC 20GX24 BOX (CM)</td>\n",
              "      <td>6.962713</td>\n",
              "      <td>96.937669</td>\n",
              "      <td>NO PROMO</td>\n",
              "      <td>1</td>\n",
              "    </tr>\n",
              "    <tr>\n",
              "      <th>3</th>\n",
              "      <td>NESCAFE 3IN1 CLASSIC 20GX24 BOX (CM)</td>\n",
              "      <td>6.962713</td>\n",
              "      <td>94.467248</td>\n",
              "      <td>NO PROMO</td>\n",
              "      <td>1</td>\n",
              "    </tr>\n",
              "    <tr>\n",
              "      <th>4</th>\n",
              "      <td>NESCAFE 3IN1 CLASSIC 20GX24 BOX (CM)</td>\n",
              "      <td>6.962713</td>\n",
              "      <td>86.266077</td>\n",
              "      <td>NO PROMO</td>\n",
              "      <td>1</td>\n",
              "    </tr>\n",
              "  </tbody>\n",
              "</table>\n",
              "</div>"
            ],
            "text/plain": [
              "                           product_name  price_per_sales_unit  sales_units  \\\n",
              "0  NESCAFE 3IN1 CLASSIC 20GX24 BOX (CM)              6.962713   156.862570   \n",
              "1  NESCAFE 3IN1 CLASSIC 20GX24 BOX (CM)              6.962713   100.990090   \n",
              "2  NESCAFE 3IN1 CLASSIC 20GX24 BOX (CM)              6.962713    96.937669   \n",
              "3  NESCAFE 3IN1 CLASSIC 20GX24 BOX (CM)              6.962713    94.467248   \n",
              "4  NESCAFE 3IN1 CLASSIC 20GX24 BOX (CM)              6.962713    86.266077   \n",
              "\n",
              "  promotion  month  \n",
              "0  NO PROMO      1  \n",
              "1  NO PROMO      1  \n",
              "2  NO PROMO      1  \n",
              "3  NO PROMO      1  \n",
              "4  NO PROMO      1  "
            ]
          },
          "metadata": {},
          "output_type": "display_data"
        }
      ],
      "source": [
        "# Cell 3 — confirm columns & peek\n",
        "print(\"Columns in dataframe:\", df.columns.tolist())\n",
        "print(\"\\nQuick peek:\")\n",
        "display(df[['product_name','price_per_sales_unit','sales_units','promotion','month']].head())\n"
      ]
    },
    {
      "cell_type": "code",
      "execution_count": 4,
      "metadata": {
        "colab": {
          "base_uri": "https://localhost:8080/"
        },
        "id": "dW-9_x_dcVAl",
        "outputId": "aebecf15-abd9-43d6-f131-d7f8653da3e7"
      },
      "outputs": [
        {
          "name": "stdout",
          "output_type": "stream",
          "text": [
            "Rows before: 153510  |  after cleaning: 153510\n"
          ]
        }
      ],
      "source": [
        "COL_PRICE = 'price_per_sales_unit'\n",
        "COL_QTY = 'sales_units'\n",
        "COL_PRODUCT = 'product_name'\n",
        "\n",
        "df = df.copy()\n",
        "\n",
        "# convert to numeric, force errors to NaN\n",
        "df[COL_PRICE] = pd.to_numeric(df[COL_PRICE], errors='coerce')\n",
        "df[COL_QTY] = pd.to_numeric(df[COL_QTY], errors='coerce')\n",
        "\n",
        "# now filter\n",
        "before = len(df)\n",
        "df = df[df[COL_PRICE] > 0]\n",
        "df = df[df[COL_QTY] >= 0]\n",
        "after = len(df)\n",
        "\n",
        "print(f\"Rows before: {before}  |  after cleaning: {after}\")\n"
      ]
    },
    {
      "cell_type": "code",
      "execution_count": 5,
      "metadata": {
        "colab": {
          "base_uri": "https://localhost:8080/",
          "height": 112
        },
        "id": "FSYf8M36cYBo",
        "outputId": "22e3b47d-fe58-47d9-b29d-2cb92d13d23a"
      },
      "outputs": [
        {
          "data": {
            "text/html": [
              "<div>\n",
              "<style scoped>\n",
              "    .dataframe tbody tr th:only-of-type {\n",
              "        vertical-align: middle;\n",
              "    }\n",
              "\n",
              "    .dataframe tbody tr th {\n",
              "        vertical-align: top;\n",
              "    }\n",
              "\n",
              "    .dataframe thead th {\n",
              "        text-align: right;\n",
              "    }\n",
              "</style>\n",
              "<table border=\"1\" class=\"dataframe\">\n",
              "  <thead>\n",
              "    <tr style=\"text-align: right;\">\n",
              "      <th></th>\n",
              "      <th>count</th>\n",
              "      <th>mean</th>\n",
              "      <th>std</th>\n",
              "      <th>min</th>\n",
              "      <th>25%</th>\n",
              "      <th>50%</th>\n",
              "      <th>75%</th>\n",
              "      <th>max</th>\n",
              "    </tr>\n",
              "  </thead>\n",
              "  <tbody>\n",
              "    <tr>\n",
              "      <th>T</th>\n",
              "      <td>153510.0</td>\n",
              "      <td>0.486360</td>\n",
              "      <td>1.006807</td>\n",
              "      <td>-0.753256</td>\n",
              "      <td>-0.571822</td>\n",
              "      <td>0.454745</td>\n",
              "      <td>1.326043</td>\n",
              "      <td>1.974629</td>\n",
              "    </tr>\n",
              "    <tr>\n",
              "      <th>Y</th>\n",
              "      <td>153510.0</td>\n",
              "      <td>1.699342</td>\n",
              "      <td>2.851487</td>\n",
              "      <td>-7.237986</td>\n",
              "      <td>0.413522</td>\n",
              "      <td>2.376241</td>\n",
              "      <td>3.713781</td>\n",
              "      <td>7.183560</td>\n",
              "    </tr>\n",
              "  </tbody>\n",
              "</table>\n",
              "</div>"
            ],
            "text/plain": [
              "      count      mean       std       min       25%       50%       75%  \\\n",
              "T  153510.0  0.486360  1.006807 -0.753256 -0.571822  0.454745  1.326043   \n",
              "Y  153510.0  1.699342  2.851487 -7.237986  0.413522  2.376241  3.713781   \n",
              "\n",
              "        max  \n",
              "T  1.974629  \n",
              "Y  7.183560  "
            ]
          },
          "metadata": {},
          "output_type": "display_data"
        }
      ],
      "source": [
        "# Cell 5 — log transforms (log-log model)\n",
        "import numpy as np\n",
        "eps = 1e-6\n",
        "df['T'] = np.log(df[COL_PRICE].astype(float) + eps)   # treatment: log(price)\n",
        "df['Y'] = np.log(df[COL_QTY].astype(float) + eps)     # outcome: log(quantity)\n",
        "display(df[['T','Y']].describe().T)\n"
      ]
    },
    {
      "cell_type": "code",
      "execution_count": null,
      "metadata": {
        "colab": {
          "base_uri": "https://localhost:8080/"
        },
        "id": "Kh4oGbLfcaNb",
        "outputId": "b85b8e03-292d-4903-884c-e6e8fcb41f2a"
      },
      "outputs": [
        {
          "name": "stdout",
          "output_type": "stream",
          "text": [
            "Using covariates: ['promotion', 'month', 'day_of_week', 'is_weekend', 'is_holiday', 'category', 'brand', 'store_type', 'rolling_7day_mean', 'rolling_7day_std']\n",
            "Categorical covariates: ['promotion', 'category', 'brand', 'store_type']\n",
            "Final X shape: (153510, 18)\n"
          ]
        }
      ],
      "source": [
        "# Cell 6 — covariates (we use sensible defaults you have)\n",
        "covariates = [\n",
        "    'promotion', 'month', 'day_of_week', 'is_weekend', 'is_holiday',\n",
        "    'category', 'brand', 'store_type',\n",
        "    'rolling_7day_mean', 'rolling_7day_std'\n",
        "]\n",
        "\n",
        "# keep only existing covariates\n",
        "covariates = [c for c in covariates if c in df.columns]\n",
        "print(\"Using covariates:\", covariates)\n",
        "\n",
        "X = df[covariates].copy()\n",
        "\n",
        "# Handle NaN in promotion\n",
        "if 'promotion' in X.columns:\n",
        "    X['promotion'] = X['promotion'].fillna('NO PROMO')\n",
        "\n",
        "# convert object/category columns to dummies (drop_first to reduce columns)\n",
        "cat_cols = X.select_dtypes(include=['object','category']).columns.tolist()\n",
        "print(\"Categorical covariates:\", cat_cols)\n",
        "if len(cat_cols) > 0:\n",
        "    X = pd.get_dummies(X, columns=cat_cols, drop_first=True)\n",
        "\n",
        "X = X.fillna(0)\n",
        "print(\"Final X shape:\", X.shape)\n",
        "print(\"Feature columns:\", X.columns.tolist())\n"
      ]
    },
    {
      "cell_type": "code",
      "execution_count": 7,
      "metadata": {
        "colab": {
          "base_uri": "https://localhost:8080/"
        },
        "id": "SHmLeDaBckqK",
        "outputId": "fdb82609-24fa-4503-8a9e-f391e9e95929"
      },
      "outputs": [
        {
          "name": "stdout",
          "output_type": "stream",
          "text": [
            "Total unique prices: 120\n",
            "\n",
            "Per-product price unique counts summary:\n",
            "count     5.0\n",
            "mean     24.0\n",
            "std       0.0\n",
            "min      24.0\n",
            "25%      24.0\n",
            "50%      24.0\n",
            "75%      24.0\n",
            "max      24.0\n",
            "Name: price_per_sales_unit, dtype: float64\n",
            "\n",
            "Number of products with only 1 unique price: 0\n"
          ]
        }
      ],
      "source": [
        "# Cell 7 — check price variation (very important)\n",
        "print(\"Total unique prices:\", df[COL_PRICE].nunique())\n",
        "pv = df.groupby(COL_PRODUCT)[COL_PRICE].nunique()\n",
        "print(\"\\nPer-product price unique counts summary:\")\n",
        "print(pv.describe())\n",
        "\n",
        "one_price = pv[pv==1].shape[0]\n",
        "print(f\"\\nNumber of products with only 1 unique price: {one_price}\")\n"
      ]
    },
    {
      "cell_type": "code",
      "execution_count": 8,
      "metadata": {
        "colab": {
          "base_uri": "https://localhost:8080/"
        },
        "id": "dVvY0E_QcmkT",
        "outputId": "ea1b72e5-0796-466e-f592-16a983ad2e34"
      },
      "outputs": [
        {
          "name": "stdout",
          "output_type": "stream",
          "text": [
            "Fitting model (may take a minute)...\n",
            "Model fitted.\n"
          ]
        }
      ],
      "source": [
        "# Cell 8 — train LinearDML (Double ML)\n",
        "from xgboost import XGBRegressor\n",
        "from econml.dml import LinearDML\n",
        "\n",
        "Y = df['Y'].values\n",
        "T = df['T'].values\n",
        "X_arr = X.values\n",
        "\n",
        "# Using XGBoost instead of RandomForest\n",
        "model_y = XGBRegressor(n_estimators=100, learning_rate=0.1, max_depth=5, random_state=123, n_jobs=-1)\n",
        "model_t = XGBRegressor(n_estimators=100, learning_rate=0.1, max_depth=5, random_state=123, n_jobs=-1)\n",
        "\n",
        "est = LinearDML(model_y=model_y, model_t=model_t,\n",
        "                discrete_treatment=False, cv=3, random_state=123)\n",
        "\n",
        "print(\"Fitting model (may take a minute)...\")\n",
        "est.fit(Y, T, X=X_arr)\n",
        "print(\"Model fitted.\")\n"
      ]
    },
    {
      "cell_type": "code",
      "execution_count": 9,
      "metadata": {
        "colab": {
          "base_uri": "https://localhost:8080/",
          "height": 330
        },
        "id": "Ookf6RIzdtIB",
        "outputId": "de7c2a3c-568f-416c-d8ad-6162d82297a1"
      },
      "outputs": [
        {
          "name": "stdout",
          "output_type": "stream",
          "text": [
            "Skipping confidence interval due to: loop of ufunc does not support argument 0 of type float which has no callable sqrt method\n",
            "\n",
            "Average price elasticity (ATE) = -0.2327\n",
            "Heterogeneous elasticity sample - mean: -0.23270531891045854  std: 0.19250336438608318\n"
          ]
        },
        {
          "data": {
            "text/html": [
              "<div>\n",
              "<style scoped>\n",
              "    .dataframe tbody tr th:only-of-type {\n",
              "        vertical-align: middle;\n",
              "    }\n",
              "\n",
              "    .dataframe tbody tr th {\n",
              "        vertical-align: top;\n",
              "    }\n",
              "\n",
              "    .dataframe thead th {\n",
              "        text-align: right;\n",
              "    }\n",
              "</style>\n",
              "<table border=\"1\" class=\"dataframe\">\n",
              "  <thead>\n",
              "    <tr style=\"text-align: right;\">\n",
              "      <th></th>\n",
              "      <th>product_name</th>\n",
              "      <th>mean</th>\n",
              "      <th>std</th>\n",
              "      <th>count</th>\n",
              "    </tr>\n",
              "  </thead>\n",
              "  <tbody>\n",
              "    <tr>\n",
              "      <th>3</th>\n",
              "      <td>NESTLE NESQUIK 330GR(C) BOX</td>\n",
              "      <td>-0.546543</td>\n",
              "      <td>0.101801</td>\n",
              "      <td>30702</td>\n",
              "    </tr>\n",
              "    <tr>\n",
              "      <th>2</th>\n",
              "      <td>NESTLE CHOCAPIC C/B 25GR (C) WRP</td>\n",
              "      <td>-0.202892</td>\n",
              "      <td>0.093544</td>\n",
              "      <td>30702</td>\n",
              "    </tr>\n",
              "    <tr>\n",
              "      <th>4</th>\n",
              "      <td>PURINA FRISK.CHICKEN IN GRAVY JUNI.85G S</td>\n",
              "      <td>-0.170898</td>\n",
              "      <td>0.122202</td>\n",
              "      <td>30702</td>\n",
              "    </tr>\n",
              "    <tr>\n",
              "      <th>1</th>\n",
              "      <td>NESCAFE LATTE 240ML TIN</td>\n",
              "      <td>-0.154605</td>\n",
              "      <td>0.090797</td>\n",
              "      <td>30702</td>\n",
              "    </tr>\n",
              "    <tr>\n",
              "      <th>0</th>\n",
              "      <td>NESCAFE 3IN1 CLASSIC 20GX24 BOX (CM)</td>\n",
              "      <td>-0.088589</td>\n",
              "      <td>0.113691</td>\n",
              "      <td>30702</td>\n",
              "    </tr>\n",
              "  </tbody>\n",
              "</table>\n",
              "</div>"
            ],
            "text/plain": [
              "                               product_name      mean       std  count\n",
              "3               NESTLE NESQUIK 330GR(C) BOX -0.546543  0.101801  30702\n",
              "2          NESTLE CHOCAPIC C/B 25GR (C) WRP -0.202892  0.093544  30702\n",
              "4  PURINA FRISK.CHICKEN IN GRAVY JUNI.85G S -0.170898  0.122202  30702\n",
              "1                   NESCAFE LATTE 240ML TIN -0.154605  0.090797  30702\n",
              "0      NESCAFE 3IN1 CLASSIC 20GX24 BOX (CM) -0.088589  0.113691  30702"
            ]
          },
          "metadata": {},
          "output_type": "display_data"
        },
        {
          "name": "stdout",
          "output_type": "stream",
          "text": [
            "\n",
            "Saved: product_elasticity_summary.csv — you can download from the left 'Files' panel.\n"
          ]
        }
      ],
      "source": [
        "# Cell 9 — results: average elasticity + per-product summary (fixed version)\n",
        "\n",
        "ate = est.ate(X=X_arr)\n",
        "\n",
        "# safe CI computation\n",
        "try:\n",
        "    ate_low, ate_high = est.ate_interval(X=X_arr)\n",
        "except Exception as e:\n",
        "    print(\"Skipping confidence interval due to:\", e)\n",
        "    ate_low, ate_high = (np.nan, np.nan)\n",
        "\n",
        "hetero = est.effect(X_arr)   # elasticity per row\n",
        "\n",
        "print(f\"\\nAverage price elasticity (ATE) = {ate:.4f}\")\n",
        "if not np.isnan(ate_low):\n",
        "    print(f\"95% CI = ({ate_low:.4f}, {ate_high:.4f})\")\n",
        "print(\"Heterogeneous elasticity sample - mean:\", hetero.mean(), \" std:\", hetero.std())\n",
        "\n",
        "# attach and summarize by product\n",
        "df['elasticity'] = hetero\n",
        "prod_summary = df.groupby(COL_PRODUCT)['elasticity'].agg(['mean','std','count']).reset_index().sort_values('mean')\n",
        "display(prod_summary.head(20))\n",
        "\n",
        "# save summary\n",
        "prod_summary.to_csv('product_elasticity_summary.csv', index=False)\n",
        "print(\"\\nSaved: product_elasticity_summary.csv — you can download from the left 'Files' panel.\")\n"
      ]
    },
    {
      "cell_type": "code",
      "execution_count": null,
      "metadata": {
        "colab": {
          "base_uri": "https://localhost:8080/"
        },
        "id": "OaWxfoLvjjCs",
        "outputId": "ae9c6c97-54f0-4639-f676-c5194f056853"
      },
      "outputs": [
        {
          "name": "stdout",
          "output_type": "stream",
          "text": [
            "Model saved as price_elasticity_model.pkl\n"
          ]
        }
      ],
      "source": [
        "import joblib\n",
        "\n",
        "# Save model\n",
        "joblib.dump(est, 'price_elasticity_model.pkl')\n",
        "print(\"Model saved as price_elasticity_model.pkl\")\n",
        "\n",
        "# Save feature names for later use\n",
        "feature_info = {\n",
        "    'feature_names': X.columns.tolist(),\n",
        "    'num_features': len(X.columns)\n",
        "}\n",
        "joblib.dump(feature_info, 'elasticity_feature_info.pkl')\n",
        "print(\"Feature info saved as elasticity_feature_info.pkl\")\n"
      ]
    },
    {
      "cell_type": "code",
      "execution_count": 19,
      "metadata": {
        "colab": {
          "base_uri": "https://localhost:8080/"
        },
        "id": "1B3gLhG0rY8M",
        "outputId": "30759151-76e9-475a-c9eb-8aa1abba7c8e"
      },
      "outputs": [
        {
          "name": "stdout",
          "output_type": "stream",
          "text": [
            "Available products:\n",
            "1. NESCAFE 3IN1 CLASSIC 20GX24 BOX (CM)\n",
            "2. NESCAFE LATTE 240ML TIN\n",
            "3. NESTLE CHOCAPIC C/B 25GR (C) WRP\n",
            "4. NESTLE NESQUIK 330GR(C) BOX\n",
            "5. PURINA FRISK.CHICKEN IN GRAVY JUNI.85G S\n",
            "\n",
            "Elasticity index for NESCAFE 3IN1 CLASSIC 20GX24 BOX (CM) at price 30.0: -0.3970\n",
            "Predicted quantity at price 30.0: 64.52 units\n"
          ]
        }
      ],
      "source": [
        "import pandas as pd\n",
        "import numpy as np\n",
        "import joblib\n",
        "\n",
        "eps = 1e-6\n",
        "COL_PRICE = 'price_per_sales_unit'\n",
        "COL_QTY = 'sales_units'\n",
        "COL_PRODUCT = 'product_name'\n",
        "\n",
        "# Load your trained model\n",
        "est = joblib.load('price_elasticity_model.pkl')\n",
        "\n",
        "# log transforms\n",
        "df['T'] = np.log(df[COL_PRICE].astype(float) + eps)\n",
        "df['Y'] = np.log(df[COL_QTY].astype(float) + eps)\n",
        "\n",
        "# --- Prepare covariates exactly like training ---\n",
        "covariates = [\n",
        "    'promotion', 'month', 'day_of_week', 'is_weekend', 'is_holiday',\n",
        "    'category', 'brand', 'store_type',\n",
        "    'rolling_7day_mean', 'rolling_7day_std'\n",
        "]\n",
        "covariates = [c for c in covariates if c in df.columns]\n",
        "\n",
        "X = df[covariates].copy()\n",
        "\n",
        "cat_cols = X.select_dtypes(include=['object', 'category']).columns.tolist()\n",
        "if len(cat_cols) > 0:\n",
        "    X = pd.get_dummies(X, columns=cat_cols, drop_first=True)\n",
        "\n",
        "X = X.fillna(0)\n",
        "\n",
        "# Align columns with model\n",
        "if hasattr(est, 'feature_names_in_'):\n",
        "    for col in est.feature_names_in_:\n",
        "        if col not in X.columns:\n",
        "            X[col] = 0\n",
        "    X = X[est.feature_names_in_]\n",
        "\n",
        "X_arr = X.values\n",
        "\n",
        "# Compute per-product mean elasticity\n",
        "df['elasticity'] = est.effect(X_arr)\n",
        "prod_elasticity = df.groupby(COL_PRODUCT)['elasticity'].mean().to_dict()\n",
        "prod_price = df.groupby(COL_PRODUCT)[COL_PRICE].mean().to_dict()\n",
        "prod_qty = df.groupby(COL_PRODUCT)[COL_QTY].mean().to_dict()\n",
        "\n",
        "# Check price variation per product\n",
        "price_variation = df.groupby(COL_PRODUCT)[COL_PRICE].nunique().to_dict()\n",
        "\n",
        "# --- Interactive selection ---\n",
        "products = list(prod_elasticity.keys())[:5]  # first 5 products\n",
        "print(\"Available products:\")\n",
        "for i, p in enumerate(products, start=1):\n",
        "    print(f\"{i}. {p}\")\n",
        "\n",
        "choice = int(input(\"Choose a product by number (1-5): \"))\n",
        "product_name = products[choice-1]\n",
        "\n",
        "new_price = float(input(f\"Set a price for '{product_name}': \"))\n",
        "\n",
        "# Get elasticity and make sure negative\n",
        "elasticity = -abs(prod_elasticity[product_name])  # force negative\n",
        "\n",
        "# Warn if product has very low price variation\n",
        "if price_variation[product_name] <= 2:\n",
        "    print(\"⚠ Warning: this product has very low price variation; elasticity may be unreliable.\")\n",
        "\n",
        "# Calculate predicted quantity using log-log elasticity\n",
        "old_price = prod_price[product_name]\n",
        "base_qty = prod_qty[product_name]\n",
        "predicted_qty = base_qty * (new_price / old_price) ** elasticity\n",
        "\n",
        "# Calculate elasticity index at new price\n",
        "elasticity_index = elasticity * (new_price / old_price)\n",
        "\n",
        "print(f\"\\nElasticity index for {product_name} at price {new_price}: {elasticity_index:.4f}\")\n",
        "print(f\"Predicted quantity at price {new_price}: {predicted_qty:.2f} units\")\n"
      ]
    }
  ],
  "metadata": {
    "colab": {
      "provenance": []
    },
    "kernelspec": {
      "display_name": "Python 3",
      "name": "python3"
    },
    "language_info": {
      "codemirror_mode": {
        "name": "ipython",
        "version": 3
      },
      "file_extension": ".py",
      "mimetype": "text/x-python",
      "name": "python",
      "nbconvert_exporter": "python",
      "pygments_lexer": "ipython3",
      "version": "3.13.2"
    }
  },
  "nbformat": 4,
  "nbformat_minor": 0
}
